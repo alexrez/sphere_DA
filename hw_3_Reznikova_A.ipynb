{
 "cells": [
  {
   "cell_type": "markdown",
   "metadata": {},
   "source": [
    "Домашняя работа №3"
   ]
  },
  {
   "cell_type": "code",
   "execution_count": 77,
   "metadata": {},
   "outputs": [],
   "source": [
    "from selenium import webdriver\n",
    "from selenium.common.exceptions import NoSuchElementException\n",
    "from bs4 import BeautifulSoup\n",
    "from time import sleep\n",
    "import html\n",
    "import pandas as pd\n",
    "import requests\n",
    "import re"
   ]
  },
  {
   "cell_type": "markdown",
   "metadata": {},
   "source": [
    "На первом этапе требуется получить все ссылки на книги автора"
   ]
  },
  {
   "cell_type": "code",
   "execution_count": 165,
   "metadata": {},
   "outputs": [],
   "source": [
    "def get_author_books(driver, author_ids, t_sleep=2):\n",
    "    url = \"https://www.bookvoed.ru/author/books?id={author_id}\"\n",
    "    result = []\n",
    "\n",
    "    for id in author_ids: \n",
    "        driver.get(url.format(author_id=author_ids[id]))\n",
    "        sleep(t_sleep)\n",
    "        try:\n",
    "            click = driver.find_element_by_class_name('wy')\n",
    "            while  click:\n",
    "                click.click()\n",
    "                sleep(t_sleep)\n",
    "                driver.execute_script(\"window.scrollTo(0, document.body.scrollHeight);\")\n",
    "                sleep(t_sleep)\n",
    "                click = driver.find_element_by_class_name('wy')\n",
    "        except NoSuchElementException:\n",
    "            sleep(t_sleep)\n",
    "        \n",
    "        sleep(t_sleep)\n",
    "\n",
    "        books = driver.find_elements_by_class_name(\"gf\")\n",
    "        for book in books:\n",
    "            b = book.get_attribute('data-book')\n",
    "            result.append(int(b))\n",
    "        sleep(t_sleep)\n",
    "\n",
    "    return result"
   ]
  },
  {
   "cell_type": "code",
   "execution_count": 166,
   "metadata": {},
   "outputs": [],
   "source": [
    "# by-url\n",
    "# books = driver.find_elements_by_class_name(\"KD\")\n",
    "# for book in books:\n",
    "#     b = book.find_element_by_css_selector('a').get_attribute('href')\n",
    "#     result.append(b)"
   ]
  },
  {
   "cell_type": "code",
   "execution_count": 167,
   "metadata": {},
   "outputs": [],
   "source": [
    "author_id = {\n",
    "  \"Дарья Донцова\":  29369,\n",
    "  \"Джеймс Роллинс\": 29442,\n",
    "  \"Макс Фрай\":      102994,\n",
    "  \"Эрин Хантер\":    26149,\n",
    "  \"Дмитрий Емец\":   35952\n",
    "}"
   ]
  },
  {
   "cell_type": "code",
   "execution_count": 172,
   "metadata": {},
   "outputs": [],
   "source": [
    "with webdriver.Firefox() as driver:\n",
    "    books = get_author_books(driver, author_id)"
   ]
  },
  {
   "cell_type": "code",
   "execution_count": 174,
   "metadata": {},
   "outputs": [
    {
     "name": "stdout",
     "output_type": "stream",
     "text": [
      "True\n"
     ]
    }
   ],
   "source": [
    "print(len(books) == 1774)\n",
    "# Донцова - 954\n",
    "# Роллинс - 137\n",
    "# Фрай - 277\n",
    "# Хантер - 112\n",
    "# Емец - 294"
   ]
  },
  {
   "cell_type": "markdown",
   "metadata": {},
   "source": [
    "На втором этапе требуется получить информацию о каждой из книг"
   ]
  },
  {
   "cell_type": "code",
   "execution_count": 244,
   "metadata": {},
   "outputs": [],
   "source": [
    "def extract_book_info(book_id):\n",
    "    sleep(0.5)\n",
    "    url = f\"https://www.bookvoed.ru/book?id={book_id}\"\n",
    "    headers = {\n",
    "        'User-Agent': 'Mozilla/5.0 (X11; Linux x86_64) ' +\n",
    "        'AppleWebKit/537.36 (KHTML, like Gecko) ' +\n",
    "        'Chrome/42.0.2311.90 Safari/537.36'\n",
    "    }\n",
    "    book_html = requests.get(url, headers=headers)\n",
    "    \n",
    "#     print(url)\n",
    "    \n",
    "    if book_html.status_code != 200:\n",
    "        raise Exception('Request has failed.')\n",
    "    \n",
    "    age = {\n",
    "        'sv nM': '18+',\n",
    "        'rv nM': '16+',\n",
    "        'qv nM': '12+',\n",
    "        'pv nM': '6+',\n",
    "        'ov nM': '0+',\n",
    "    }\n",
    "    \n",
    "    soup = BeautifulSoup(book_html.text, 'html.parser')\n",
    "    book_info = {\n",
    "        \"ID\": book_id,\n",
    "        \"Название\": soup.find('h1').contents[0].strip(),\n",
    "        \"Цена\": soup.find('div', class_='Hu Wu'),\n",
    "        \"Рейтинг\": float(soup.find(class_='af')['style'].split()[1].strip('%')),\n",
    "        \"Понравилось\": int(soup.find(class_='Ke Me ').contents[0].strip('\\n') or 0),\n",
    "        \"В закладки\": int(soup.find(class_='Ke Le ff').contents[0].strip('\\n') or 0),\n",
    "        \"Не понравилось\": int(soup.find(class_='Ke Oe ').contents[0].strip('\\n') or 0),\n",
    "        \"Описание\": soup.find(class_='lw'),\n",
    "        \"Возраст\": age[str(soup.find('div', class_=re.compile(r\"...\\bnM\\b\"))).split('\"')[1]],\n",
    "        \"Обложка\": 'https://www.bookvoed.ru' + soup.find(class_='tf')['src'],\n",
    "    }\n",
    "    \n",
    "    if book_info[\"Цена\"] is not None:\n",
    "        tmp = book_info[\"Цена\"].text.replace(' ', '').strip('\\n').split('pуб.')\n",
    "        if len(tmp) > 2:\n",
    "            book_info[\"Цена\"] = float(tmp[1])\n",
    "        else:\n",
    "            book_info[\"Цена\"] = float(tmp[0])\n",
    "    if book_info[\"Описание\"] is not None:\n",
    "        book_info[\"Описание\"] = book_info[\"Описание\"].contents[0].replace('\\n', ' ').strip()\n",
    "\n",
    "    change_to_int = ['Год', 'Страниц', 'Код', 'Тираж']\n",
    "    table = soup.find('table', class_='tw')\n",
    "    rows = table.find_all('tr')\n",
    "    info = [list(map(lambda x: x.text, row.find_all('td'))) for row in rows]\n",
    "    for data in info:\n",
    "        data[0] = data[0].strip(':')\n",
    "        if data[0] in change_to_int:\n",
    "            data[1] = int(data[1])\n",
    "    book_info.update(info)\n",
    "\n",
    "    return book_info"
   ]
  },
  {
   "cell_type": "code",
   "execution_count": 245,
   "metadata": {},
   "outputs": [
    {
     "name": "stdout",
     "output_type": "stream",
     "text": [
      "1770 objects are processed..."
     ]
    }
   ],
   "source": [
    "from multiprocessing import Pool, Lock, Value\n",
    "from time import sleep\n",
    "\n",
    "mutex = Lock()\n",
    "n_processed = Value('i', 0)\n",
    "\n",
    "def func_wrapper(uid):\n",
    "    res = extract_book_info(uid) \n",
    "    with mutex:\n",
    "        global n_processed\n",
    "        n_processed.value += 1\n",
    "        if n_processed.value % 10 == 0:\n",
    "            print(f\"\\r{n_processed.value} objects are processed...\", end='', flush=True)\n",
    "    return res\n",
    "\n",
    "with Pool(processes=10) as pool:\n",
    "    result = list(pool.map(func_wrapper, books))"
   ]
  },
  {
   "cell_type": "code",
   "execution_count": 246,
   "metadata": {},
   "outputs": [
    {
     "name": "stdout",
     "output_type": "stream",
     "text": [
      "<class 'pandas.core.frame.DataFrame'>\n",
      "Int64Index: 1774 entries, 953 to 225\n",
      "Data columns (total 26 columns):\n",
      "ID                1774 non-null int64\n",
      "ISBN              1774 non-null object\n",
      "Автор             1774 non-null object\n",
      "Авторы            1774 non-null object\n",
      "В базе            1774 non-null object\n",
      "В закладки        1774 non-null int64\n",
      "Возраст           1774 non-null object\n",
      "Год               1774 non-null object\n",
      "Издательство      1774 non-null object\n",
      "Код               1774 non-null int64\n",
      "Название          1774 non-null object\n",
      "Не понравилось    1774 non-null int64\n",
      "Обложка           1774 non-null object\n",
      "Описание          1774 non-null object\n",
      "Переводчик        1774 non-null object\n",
      "Переплёт          1774 non-null object\n",
      "Понравилось       1774 non-null int64\n",
      "Производитель     1774 non-null object\n",
      "Размеры           1774 non-null object\n",
      "Рейтинг           1774 non-null float64\n",
      "Серия             1774 non-null object\n",
      "Страниц           1774 non-null object\n",
      "Тематика          1774 non-null object\n",
      "Тираж             1774 non-null object\n",
      "Формат            1774 non-null object\n",
      "Цена              1774 non-null object\n",
      "dtypes: float64(1), int64(5), object(20)\n",
      "memory usage: 374.2+ KB\n",
      "None\n"
     ]
    }
   ],
   "source": [
    "# mut = [9851982, 6519769, 7694777, 6739699]\n",
    "# result = list(map(extract_book_info, mut))\n",
    "\n",
    "df = pd.DataFrame(result)\n",
    "df.fillna('', inplace=True)\n",
    "df.sort_values(by=['ID'], inplace=True)\n",
    "print(df.info())\n",
    "# df.head()"
   ]
  },
  {
   "cell_type": "code",
   "execution_count": 247,
   "metadata": {},
   "outputs": [],
   "source": [
    "with open('hw_3.csv', mode='w', encoding='utf-8') as f_csv:\n",
    "    df.to_csv(f_csv, index=False)"
   ]
  },
  {
   "cell_type": "code",
   "execution_count": 39,
   "metadata": {},
   "outputs": [],
   "source": [
    "# ml = pd.read_csv('hw_3.csv', sep = ',')\n",
    "# ml"
   ]
  },
  {
   "cell_type": "code",
   "execution_count": null,
   "metadata": {},
   "outputs": [],
   "source": []
  }
 ],
 "metadata": {
  "kernelspec": {
   "display_name": "Python 3",
   "language": "python",
   "name": "python3"
  },
  "language_info": {
   "codemirror_mode": {
    "name": "ipython",
    "version": 3
   },
   "file_extension": ".py",
   "mimetype": "text/x-python",
   "name": "python",
   "nbconvert_exporter": "python",
   "pygments_lexer": "ipython3",
   "version": "3.7.1"
  }
 },
 "nbformat": 4,
 "nbformat_minor": 2
}
